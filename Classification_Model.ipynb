{
  "nbformat": 4,
  "nbformat_minor": 0,
  "metadata": {
    "colab": {
      "name": "Classification_Model.ipynb",
      "provenance": [],
      "authorship_tag": "ABX9TyOoL+0Dm3lnWZyiJ0AGQY91",
      "include_colab_link": true
    },
    "kernelspec": {
      "name": "python3",
      "display_name": "Python 3"
    }
  },
  "cells": [
    {
      "cell_type": "markdown",
      "metadata": {
        "id": "view-in-github",
        "colab_type": "text"
      },
      "source": [
        "<a href=\"https://colab.research.google.com/github/sumitra122/Classification-Models/blob/master/Classification_Model.ipynb\" target=\"_parent\"><img src=\"https://colab.research.google.com/assets/colab-badge.svg\" alt=\"Open In Colab\"/></a>"
      ]
    },
    {
      "cell_type": "code",
      "metadata": {
        "id": "WG1t9eSm8wUU",
        "colab_type": "code",
        "colab": {}
      },
      "source": [
        "# importing the libraries\n",
        "import numpy as np\n",
        "import matplotlib.pyplot as plt\n",
        "import pandas as pd"
      ],
      "execution_count": null,
      "outputs": []
    },
    {
      "cell_type": "code",
      "metadata": {
        "id": "meYyNvOe9C4r",
        "colab_type": "code",
        "colab": {}
      },
      "source": [
        "# importing dataset\n",
        "dataset = pd.read_csv('datasets_738_1370_glass.csv')\n",
        "x = dataset.iloc[:, :-1].values\n",
        "y = dataset.iloc[:, -1].values"
      ],
      "execution_count": null,
      "outputs": []
    },
    {
      "cell_type": "code",
      "metadata": {
        "id": "ZbB_TYl49C8J",
        "colab_type": "code",
        "colab": {
          "base_uri": "https://localhost:8080/",
          "height": 134
        },
        "outputId": "6b44b556-47b6-42ee-99a5-47940792db35"
      },
      "source": [
        "print(x)"
      ],
      "execution_count": null,
      "outputs": [
        {
          "output_type": "stream",
          "text": [
            "[[ 1.52101 13.64     4.49    ...  8.75     0.       0.     ]\n",
            " [ 1.51761 13.89     3.6     ...  7.83     0.       0.     ]\n",
            " [ 1.51618 13.53     3.55    ...  7.78     0.       0.     ]\n",
            " ...\n",
            " [ 1.52065 14.36     0.      ...  8.44     1.64     0.     ]\n",
            " [ 1.51651 14.38     0.      ...  8.48     1.57     0.     ]\n",
            " [ 1.51711 14.23     0.      ...  8.62     1.67     0.     ]]\n"
          ],
          "name": "stdout"
        }
      ]
    },
    {
      "cell_type": "code",
      "metadata": {
        "id": "EqtVzFvV9C-M",
        "colab_type": "code",
        "colab": {
          "base_uri": "https://localhost:8080/",
          "height": 118
        },
        "outputId": "18037d03-5fc2-4c20-fbf0-fce577066b4f"
      },
      "source": [
        "print(y)"
      ],
      "execution_count": null,
      "outputs": [
        {
          "output_type": "stream",
          "text": [
            "[1 1 1 1 1 1 1 1 1 1 1 1 1 1 1 1 1 1 1 1 1 1 1 1 1 1 1 1 1 1 1 1 1 1 1 1 1\n",
            " 1 1 1 1 1 1 1 1 1 1 1 1 1 1 1 1 1 1 1 1 1 1 1 1 1 1 1 1 1 1 1 1 1 2 2 2 2\n",
            " 2 2 2 2 2 2 2 2 2 2 2 2 2 2 2 2 2 2 2 2 2 2 2 2 2 2 2 2 2 2 2 2 2 2 2 2 2\n",
            " 2 2 2 2 2 2 2 2 2 2 2 2 2 2 2 2 2 2 2 2 2 2 2 2 2 2 2 2 2 2 2 2 2 2 2 3 3\n",
            " 3 3 3 3 3 3 3 3 3 3 3 3 3 3 3 5 5 5 5 5 5 5 5 5 5 5 5 5 6 6 6 6 6 6 6 6 6\n",
            " 7 7 7 7 7 7 7 7 7 7 7 7 7 7 7 7 7 7 7 7 7 7 7 7 7 7 7 7 7]\n"
          ],
          "name": "stdout"
        }
      ]
    },
    {
      "cell_type": "code",
      "metadata": {
        "id": "NUb-7HGe9DCX",
        "colab_type": "code",
        "colab": {}
      },
      "source": [
        "#Splitting the dataset into training set and test set\n",
        "from sklearn.model_selection import train_test_split\n",
        "x_train, x_test, y_train, y_test = train_test_split(x, y, test_size = 0.25, random_state = 0)"
      ],
      "execution_count": null,
      "outputs": []
    },
    {
      "cell_type": "code",
      "metadata": {
        "id": "r79Aqdbg9DGA",
        "colab_type": "code",
        "colab": {}
      },
      "source": [
        "#Feature scaling\n",
        "from sklearn.preprocessing import StandardScaler\n",
        "sc = StandardScaler()\n",
        "x_train = sc.fit_transform(x_train)\n",
        "x_test = sc.transform(x_test)"
      ],
      "execution_count": null,
      "outputs": []
    },
    {
      "cell_type": "code",
      "metadata": {
        "id": "eaDbzwZl9DJS",
        "colab_type": "code",
        "colab": {
          "base_uri": "https://localhost:8080/",
          "height": 235
        },
        "outputId": "544892ce-fc63-4f98-f27d-80dacc220676"
      },
      "source": [
        "print(x_train)"
      ],
      "execution_count": null,
      "outputs": [
        {
          "output_type": "stream",
          "text": [
            "[[-0.57016436 -0.8021311   0.59394972 ... -0.73204433 -0.36042422\n",
            "  -0.5574741 ]\n",
            " [-0.12738242 -0.01596892  0.14178098 ...  0.03745343 -0.36042422\n",
            "  -0.5574741 ]\n",
            " [ 1.00931153 -0.48275272  0.68438347 ...  0.59585004 -0.36042422\n",
            "   1.35466909]\n",
            " ...\n",
            " [-0.4578167   0.34026082  0.70525279 ... -0.74566376 -0.36042422\n",
            "  -0.5574741 ]\n",
            " [ 2.7110481   0.67192299  0.71916568 ...  0.57542089 -0.36042422\n",
            "   0.56731601]\n",
            " [-1.73659739 -0.54417164 -1.85471789 ... -1.39258666 -0.36042422\n",
            "  -0.5574741 ]]\n"
          ],
          "name": "stdout"
        }
      ]
    },
    {
      "cell_type": "code",
      "metadata": {
        "id": "KH1rTQMS9DBR",
        "colab_type": "code",
        "colab": {
          "base_uri": "https://localhost:8080/",
          "height": 1000
        },
        "outputId": "0cb69390-fef8-4887-d38d-5d19f428b9ff"
      },
      "source": [
        "print(x_test)"
      ],
      "execution_count": null,
      "outputs": [
        {
          "output_type": "stream",
          "text": [
            "[[-3.95034190e-01  1.54407167e+00 -1.85471789e+00  1.75197496e+00\n",
            "   8.54487173e-01 -6.88607851e-01 -1.70242868e-02  1.01064199e+00\n",
            "  -5.57474100e-01]\n",
            " [-1.63730189e-01 -8.63550025e-01  5.66123950e-01 -1.61246920e-01\n",
            "   4.37862630e-01  1.79249921e-01 -2.00886585e-01 -3.60424223e-01\n",
            "  -5.57474100e-01]\n",
            " [-6.82512019e-01 -1.09694192e+00  5.66123950e-01  8.43677703e-01\n",
            "   7.89389588e-01  1.65689643e-01 -6.09469468e-01 -3.60424223e-01\n",
            "   4.54837002e-01]\n",
            " [ 1.93138841e-01  6.84206777e-01 -1.92128234e-01  2.44588024e-01\n",
            "  -3.30288871e-01 -6.88607851e-01  4.05178026e-01 -3.60424223e-01\n",
            "  -5.57474100e-01]\n",
            " [ 1.72635393e+00 -3.68513524e-03 -1.85471789e+00  2.83238971e-01\n",
            "  -5.25581625e-01 -2.54678965e-01  2.22337186e+00 -3.60424223e-01\n",
            "  -5.57474100e-01]\n",
            " [-8.47729162e-01 -5.19604069e-01  6.35688371e-01  1.47960657e-01\n",
            "   6.46174901e-01  2.47051309e-01 -6.91186045e-01 -3.60424223e-01\n",
            "  -5.57474100e-01]\n",
            " [-1.83391029e-02 -5.19604069e-01  6.63514139e-01 -7.21685652e-01\n",
            "  -3.69347422e-01  1.79249921e-01  1.05550578e-01 -3.60424223e-01\n",
            "   1.12971107e+00]\n",
            " [-4.47903676e-01 -6.79293263e-01  6.63514139e-01  2.63913498e-01\n",
            "   4.37862630e-01  1.38569088e-01 -5.89040324e-01 -3.60424223e-01\n",
            "  -5.57474100e-01]\n",
            " [-8.27903105e-01 -8.02131105e-01  6.56557697e-01  3.60540865e-01\n",
            "   4.50882147e-01  1.79249921e-01 -6.16279183e-01 -3.60424223e-01\n",
            "   2.36698019e+00]\n",
            " [-8.34511791e-01 -4.33617580e-01  5.93949718e-01  2.25262551e-01\n",
            "   3.20686977e-01  2.33491031e-01 -6.29898612e-01 -3.60424223e-01\n",
            "   4.54837002e-01]\n",
            " [-2.56251789e-01 -1.21977977e+00  3.04779118e-02 -2.77199761e-01\n",
            "   1.40130689e+00  7.07676992e-02  5.78825752e-02 -3.60424223e-01\n",
            "   2.14202217e+00]\n",
            " [-2.49477886e-02 -7.28428400e-01  6.98296349e-01 -3.73827128e-01\n",
            "  -6.98985317e-02  1.52129365e-01 -2.00886585e-01 -3.60424223e-01\n",
            "   3.37929130e+00]\n",
            " [-4.80781887e-02 -1.38806761e-01  4.68733761e-01  2.05937077e-01\n",
            "  -6.29737761e-01  7.07676992e-02  1.02145721e-02 -3.60424223e-01\n",
            "  -5.57474100e-01]\n",
            " [ 3.07452582e+00 -9.86387867e-01 -1.85471789e+00 -1.47537912e+00\n",
            "  -7.85971965e-01 -6.07246185e-01  3.69427024e+00 -3.60424223e-01\n",
            "  -5.57474100e-01]\n",
            " [-8.27903105e-01 -5.19604069e-01  6.21775487e-01  2.05937077e-01\n",
            "   6.33155384e-01  2.87732142e-01 -7.32044333e-01 -3.60424223e-01\n",
            "  -5.57474100e-01]\n",
            " [-1.09885922e+00  1.72832843e+00 -1.85471789e+00  1.90657875e+00\n",
            "   1.42734592e+00 -6.88607851e-01 -3.98368312e-01  8.02904681e-01\n",
            "  -5.57474100e-01]\n",
            " [-5.93294762e-01 -6.17874343e-01  6.56557697e-01 -3.35176181e-01\n",
            "   1.64452774e-01  7.07676992e-02 -2.55364302e-01 -3.60424223e-01\n",
            "  -5.57474100e-01]\n",
            " [-8.51033505e-01 -6.91577047e-01  5.31341740e-01 -6.46195521e-02\n",
            "   8.54487173e-01  2.47051309e-01 -6.29898612e-01 -3.60424223e-01\n",
            "   2.14202217e+00]\n",
            " [-7.81642305e-01 -2.82527035e-02  5.10472414e-01 -4.12478075e-01\n",
            "   8.63356719e-02  1.11448532e-01 -4.46036315e-01 -3.60424223e-01\n",
            "  -5.57474100e-01]\n",
            " [-2.33121389e-01  1.06868922e-01  5.17428856e-01  1.67286130e-01\n",
            "  -7.59932931e-01  9.78882545e-02 -1.25979722e-01 -3.60424223e-01\n",
            "  -5.57474100e-01]\n",
            " [-5.96599105e-01 -7.16144616e-01 -1.85471789e+00  7.66375809e-01\n",
            "   1.63565819e+00  6.26739084e-01  8.13760910e-01 -3.60424223e-01\n",
            "  -5.57474100e-01]\n",
            " [ 1.47043258e-02 -2.98495955e-01  6.70470581e-01 -7.02360178e-01\n",
            "   2.68608909e-01  8.43279769e-02 -3.84748882e-01 -1.73460649e-01\n",
            "   1.35466909e+00]\n",
            " [-5.40425276e-01  1.37209869e+00 -1.85471789e+00  1.05625791e+00\n",
            "   8.67506690e-01 -6.88607851e-01 -3.09842020e-01  2.90105145e+00\n",
            "   2.29878979e-01]\n",
            " [ 1.71313656e+00  2.88300414e+00 -5.81688989e-01 -2.38548814e-01\n",
            "  -2.85607516e+00 -2.68239243e-01 -2.48554588e-01  3.12956249e+00\n",
            "  -5.57474100e-01]\n",
            " [-6.16425162e-01 -5.56455422e-01  3.57430688e-01 -3.93152602e-01\n",
            "   4.50882147e-01  9.78882545e-02 -1.12360293e-01 -3.60424223e-01\n",
            "   2.14202217e+00]\n",
            " [ 2.12964898e-01  5.61368935e-01  7.40035001e-01 -4.89779970e-01\n",
            "  -6.55776795e-01 -6.07246185e-01 -5.78825752e-02 -3.60424223e-01\n",
            "  -5.57474100e-01]\n",
            " [-6.82512019e-01  1.13870679e+00 -1.85471789e+00  2.52499390e+00\n",
            "   2.94647943e-01 -6.88607851e-01  3.23461450e-01  7.61357220e-01\n",
            "  -5.57474100e-01]\n",
            " [-2.82686532e-01 -7.77563536e-01  6.07862602e-01 -3.93152602e-01\n",
            "   8.02409105e-01  9.78882545e-02 -3.98368312e-01 -3.60424223e-01\n",
            "  -5.57474100e-01]\n",
            " [-9.17120363e-01 -2.49360818e-01  5.73080392e-01  7.06587626e-02\n",
            "   8.15428622e-01 -1.73317299e-01 -6.43518042e-01 -3.60424223e-01\n",
            "  -5.57474100e-01]\n",
            " [ 4.79129716e-03  2.41990548e-01  8.37425190e-01 -3.15850708e-01\n",
            "  -8.64089066e-01  4.36471438e-02 -4.46036315e-01 -3.60424223e-01\n",
            "   3.04185426e+00]\n",
            " [-2.99208247e-01 -3.59914875e-01  6.56557697e-01 -7.41011125e-01\n",
            "   8.02409105e-01  8.43279769e-02 -5.00514033e-01 -3.60424223e-01\n",
            "  -5.57474100e-01]\n",
            " [ 1.25713724e+00  8.93031107e-01  7.95686538e-01 -1.26279891e+00\n",
            "  -1.65827960e+00 -6.88607851e-01  4.86894603e-01 -3.60424223e-01\n",
            "  -5.57474100e-01]\n",
            " [-4.54512361e-01 -5.44171638e-01  5.59167508e-01  6.89073915e-01\n",
            "   1.25394223e-01  2.06370476e-01 -5.41372321e-01 -3.60424223e-01\n",
            "  -5.57474100e-01]\n",
            " [-3.42164704e-01 -1.52687437e+00  4.06125783e-01 -5.28430917e-01\n",
            "   1.20601413e+00  1.52129365e-01 -5.10728605e-02 -3.60424223e-01\n",
            "   2.14202217e+00]\n",
            " [-1.33991103e-01 -5.44171638e-01  7.88730096e-01 -6.83034705e-01\n",
            "   5.81077316e-01  7.07676992e-02 -4.05178026e-01 -3.60424223e-01\n",
            "   7.92274036e-01]\n",
            " [ 1.20426776e+00  9.17598676e-01  7.74817212e-01 -1.01156775e+00\n",
            "  -1.64526008e+00 -3.76721464e-01  1.12360293e-01 -3.60424223e-01\n",
            "   3.60424932e+00]\n",
            " [-3.09121275e-01 -1.07237436e+00  5.59167508e-01 -1.03270499e-01\n",
            "   9.97701859e-01  1.25008810e-01 -2.89412876e-01 -3.60424223e-01\n",
            "   1.17399968e-01]\n",
            " [-5.04077504e-01 -7.16144616e-01  6.35688371e-01 -2.38548814e-01\n",
            "  -1.78204638e-02  1.38569088e-01 -1.25979722e-01 -3.60424223e-01\n",
            "  -5.57474100e-01]\n",
            " [-1.83391029e-02 -6.30158127e-01  7.46991444e-01 -6.25058284e-01\n",
            "  -4.47464524e-01  1.79249921e-01 -1.02145721e-02 -3.60424223e-01\n",
            "   1.91706415e+00]\n",
            " [-8.08077048e-01  1.72832843e+00 -1.85471789e+00  1.82927685e+00\n",
            "   8.54487173e-01 -6.88607851e-01 -1.46408867e-01  9.69094524e-01\n",
            "   4.54837002e-01]\n",
            " [ 4.22443714e+00 -3.33259064e+00 -1.85471789e+00  1.28816359e+00\n",
            "  -3.66328521e+00  9.78882545e-02  2.94520162e+00  6.18330086e+00\n",
            "   2.59193822e+00]\n",
            " [-1.80929294e+00  1.17555814e+00 -6.44296968e-01  2.05937077e-01\n",
            "   2.50796583e+00 -6.88607851e-01 -9.43145490e-01 -3.60424223e-01\n",
            "  -5.57474100e-01]\n",
            " [-5.70164362e-01 -7.03860832e-01  6.21775487e-01  3.99191812e-01\n",
            "   6.72213935e-01  1.92810198e-01 -6.70756901e-01 -3.60424223e-01\n",
            "  -5.57474100e-01]\n",
            " [-2.06686646e-01 -9.37252730e-01  6.98296349e-01 -5.28430917e-01\n",
            "   6.33155384e-01  1.38569088e-01 -1.87267155e-01 -3.60424223e-01\n",
            "  -5.57474100e-01]\n",
            " [-1.90164932e-01 -3.10779739e-01  8.58294516e-01 -2.57874287e-01\n",
            "  -3.82366939e-01  5.72074215e-02 -3.64319738e-01 -3.60424223e-01\n",
            "   2.59193822e+00]\n",
            " [-5.27207904e-01 -2.61644602e-01  6.07862602e-01  8.99842361e-02\n",
            "   2.81628426e-01  7.07676992e-02 -5.95850039e-01 -3.60424223e-01\n",
            "  -5.57474100e-01]\n",
            " [-3.65295104e-01 -8.14414889e-01  6.63514139e-01 -2.77199761e-01\n",
            "   2.16530841e-01  1.11448532e-01 -1.87267155e-01 -3.60424223e-01\n",
            "  -5.57474100e-01]\n",
            " [-8.41120477e-01 -7.16144616e-01  5.93949718e-01  1.32681454e+00\n",
            "   4.72771210e-02  2.47051309e-01 -6.84376330e-01 -3.60424223e-01\n",
            "  -5.57474100e-01]\n",
            " [ 1.76617126e-01  5.77337855e-02  5.66123950e-01 -1.61246920e-01\n",
            "  -8.77108583e-01  5.72074215e-02  1.70242868e-02 -3.60424223e-01\n",
            "  -5.57474100e-01]\n",
            " [-6.65990305e-01 -3.68513524e-03  6.56557697e-01  2.05937077e-01\n",
            "  -3.04249837e-01  2.06370476e-01 -6.43518042e-01 -3.60424223e-01\n",
            "  -5.57474100e-01]\n",
            " [-3.45469047e-01 -2.12509466e-01  6.63514139e-01 -3.73827128e-01\n",
            "   5.94096833e-01  5.72074215e-02 -6.16279183e-01 -3.60424223e-01\n",
            "  -5.57474100e-01]\n",
            " [ 1.24061553e+00  1.21240950e+00 -1.85471789e+00 -8.37638493e-01\n",
            "   6.02966379e-02 -5.53005074e-01  1.73307240e+00 -3.60424223e-01\n",
            "   3.42357991e-01]\n",
            " [-9.60076820e-01  5.24517583e-01 -1.85471789e+00  2.13848443e+00\n",
            "   7.89389588e-01 -4.98763964e-01  2.96222591e-01  1.32224794e+00\n",
            "  -4.44995089e-01]\n",
            " [-2.00077961e-01 -8.75833810e-01  5.31341740e-01 -4.70454496e-01\n",
            "   4.24843113e-01  1.52129365e-01 -1.46408867e-01 -3.60424223e-01\n",
            "   2.81689624e+00]]\n"
          ],
          "name": "stdout"
        }
      ]
    },
    {
      "cell_type": "code",
      "metadata": {
        "id": "tuBM5rcZ9C3q",
        "colab_type": "code",
        "colab": {
          "base_uri": "https://localhost:8080/",
          "height": 101
        },
        "outputId": "a2de45a5-c00b-4cbd-e458-2f7b2ccab0d7"
      },
      "source": [
        "#Training the dataset into train set in Logistic regression\n",
        "from sklearn.linear_model import LogisticRegression\n",
        "classifier = LogisticRegression(random_state = 0)\n",
        "classifier.fit(x_train, y_train)"
      ],
      "execution_count": null,
      "outputs": [
        {
          "output_type": "execute_result",
          "data": {
            "text/plain": [
              "LogisticRegression(C=1.0, class_weight=None, dual=False, fit_intercept=True,\n",
              "                   intercept_scaling=1, l1_ratio=None, max_iter=100,\n",
              "                   multi_class='auto', n_jobs=None, penalty='l2',\n",
              "                   random_state=0, solver='lbfgs', tol=0.0001, verbose=0,\n",
              "                   warm_start=False)"
            ]
          },
          "metadata": {
            "tags": []
          },
          "execution_count": 290
        }
      ]
    },
    {
      "cell_type": "code",
      "metadata": {
        "id": "Pu2tzcS7Bjv0",
        "colab_type": "code",
        "colab": {}
      },
      "source": [
        "#predicting test result\n",
        "y_pred = classifier.predict(x_test)"
      ],
      "execution_count": null,
      "outputs": []
    },
    {
      "cell_type": "code",
      "metadata": {
        "id": "YRpDES-wCa30",
        "colab_type": "code",
        "colab": {
          "base_uri": "https://localhost:8080/",
          "height": 134
        },
        "outputId": "85eb0f8a-6774-43ec-b970-f882cc1d67f8"
      },
      "source": [
        "#Making the confusion matrix\n",
        "from sklearn.metrics import confusion_matrix, accuracy_score\n",
        "cm = confusion_matrix(y_test, y_pred)\n",
        "print(cm)\n",
        "accuracy_score(y_test, y_pred)"
      ],
      "execution_count": null,
      "outputs": [
        {
          "output_type": "stream",
          "text": [
            "[[11  3  0  0  0  0]\n",
            " [10 12  0  1  1  0]\n",
            " [ 3  2  0  0  0  0]\n",
            " [ 0  1  0  1  0  0]\n",
            " [ 0  1  0  0  1  0]\n",
            " [ 0  0  0  0  0  7]]\n"
          ],
          "name": "stdout"
        },
        {
          "output_type": "execute_result",
          "data": {
            "text/plain": [
              "0.5925925925925926"
            ]
          },
          "metadata": {
            "tags": []
          },
          "execution_count": 292
        }
      ]
    },
    {
      "cell_type": "code",
      "metadata": {
        "id": "dG4O4gt5Etx-",
        "colab_type": "code",
        "colab": {
          "base_uri": "https://localhost:8080/",
          "height": 67
        },
        "outputId": "968205e5-b83a-4573-9975-685a43a34cff"
      },
      "source": [
        "#Training the dataset into train set in K-NN\n",
        "from sklearn.neighbors import KNeighborsClassifier\n",
        "classifier = KNeighborsClassifier(n_neighbors=5, p=2, metric='minkowski')\n",
        "classifier.fit(x_train, y_train)"
      ],
      "execution_count": null,
      "outputs": [
        {
          "output_type": "execute_result",
          "data": {
            "text/plain": [
              "KNeighborsClassifier(algorithm='auto', leaf_size=30, metric='minkowski',\n",
              "                     metric_params=None, n_jobs=None, n_neighbors=5, p=2,\n",
              "                     weights='uniform')"
            ]
          },
          "metadata": {
            "tags": []
          },
          "execution_count": 293
        }
      ]
    },
    {
      "cell_type": "code",
      "metadata": {
        "id": "bG_McrBiFdlI",
        "colab_type": "code",
        "colab": {}
      },
      "source": [
        "#predicting test result\n",
        "y_pred = classifier.predict(x_test)"
      ],
      "execution_count": null,
      "outputs": []
    },
    {
      "cell_type": "code",
      "metadata": {
        "id": "1Zwusr0NFhIk",
        "colab_type": "code",
        "colab": {
          "base_uri": "https://localhost:8080/",
          "height": 134
        },
        "outputId": "1b53fc8c-163c-45ec-d366-1a8c74ab4ffe"
      },
      "source": [
        "#Making the confusion matrix\n",
        "from sklearn.metrics import confusion_matrix, accuracy_score\n",
        "cm = confusion_matrix(y_test, y_pred)\n",
        "print(cm)\n",
        "accuracy_score(y_test, y_pred)"
      ],
      "execution_count": null,
      "outputs": [
        {
          "output_type": "stream",
          "text": [
            "[[ 9  5  0  0  0  0]\n",
            " [ 8 15  0  1  0  0]\n",
            " [ 3  2  0  0  0  0]\n",
            " [ 0  1  0  1  0  0]\n",
            " [ 0  1  0  0  1  0]\n",
            " [ 0  0  0  0  0  7]]\n"
          ],
          "name": "stdout"
        },
        {
          "output_type": "execute_result",
          "data": {
            "text/plain": [
              "0.6111111111111112"
            ]
          },
          "metadata": {
            "tags": []
          },
          "execution_count": 295
        }
      ]
    },
    {
      "cell_type": "code",
      "metadata": {
        "id": "Q3fr4y2SFl_l",
        "colab_type": "code",
        "colab": {
          "base_uri": "https://localhost:8080/",
          "height": 84
        },
        "outputId": "62828854-366f-40cc-cf00-69f91ddc28ac"
      },
      "source": [
        "#Training the dataset into train set in svm linear kernel\n",
        "from sklearn.svm import SVC\n",
        "classifier = SVC(kernel = 'linear', random_state = 0)\n",
        "classifier.fit(x_train, y_train)"
      ],
      "execution_count": null,
      "outputs": [
        {
          "output_type": "execute_result",
          "data": {
            "text/plain": [
              "SVC(C=1.0, break_ties=False, cache_size=200, class_weight=None, coef0=0.0,\n",
              "    decision_function_shape='ovr', degree=3, gamma='scale', kernel='linear',\n",
              "    max_iter=-1, probability=False, random_state=0, shrinking=True, tol=0.001,\n",
              "    verbose=False)"
            ]
          },
          "metadata": {
            "tags": []
          },
          "execution_count": 296
        }
      ]
    },
    {
      "cell_type": "code",
      "metadata": {
        "id": "myEFcgFUFrg6",
        "colab_type": "code",
        "colab": {}
      },
      "source": [
        "#predicting test result\n",
        "y_pred = classifier.predict(x_test)"
      ],
      "execution_count": null,
      "outputs": []
    },
    {
      "cell_type": "code",
      "metadata": {
        "id": "yGeJ-InqFrlM",
        "colab_type": "code",
        "colab": {
          "base_uri": "https://localhost:8080/",
          "height": 134
        },
        "outputId": "854ff388-f610-41ae-eabb-4c399aa16f64"
      },
      "source": [
        "#Making the confusion matrix\n",
        "from sklearn.metrics import confusion_matrix, accuracy_score\n",
        "cm = confusion_matrix(y_test, y_pred)\n",
        "print(cm)\n",
        "accuracy_score(y_test, y_pred)"
      ],
      "execution_count": null,
      "outputs": [
        {
          "output_type": "stream",
          "text": [
            "[[10  4  0  0  0  0]\n",
            " [ 9 14  0  1  0  0]\n",
            " [ 3  2  0  0  0  0]\n",
            " [ 0  2  0  0  0  0]\n",
            " [ 0  0  0  0  2  0]\n",
            " [ 0  0  0  0  0  7]]\n"
          ],
          "name": "stdout"
        },
        {
          "output_type": "execute_result",
          "data": {
            "text/plain": [
              "0.6111111111111112"
            ]
          },
          "metadata": {
            "tags": []
          },
          "execution_count": 298
        }
      ]
    },
    {
      "cell_type": "code",
      "metadata": {
        "id": "_lxpkCVxFru_",
        "colab_type": "code",
        "colab": {
          "base_uri": "https://localhost:8080/",
          "height": 84
        },
        "outputId": "bb3caed4-e07f-4216-9325-2e73f7f48dc7"
      },
      "source": [
        "#Training the dataset into train set in Guassian rbf classifier\n",
        "from sklearn.svm import SVC\n",
        "classifier = SVC(kernel = 'rbf', random_state = 0)\n",
        "classifier.fit(x_train, y_train)"
      ],
      "execution_count": null,
      "outputs": [
        {
          "output_type": "execute_result",
          "data": {
            "text/plain": [
              "SVC(C=1.0, break_ties=False, cache_size=200, class_weight=None, coef0=0.0,\n",
              "    decision_function_shape='ovr', degree=3, gamma='scale', kernel='rbf',\n",
              "    max_iter=-1, probability=False, random_state=0, shrinking=True, tol=0.001,\n",
              "    verbose=False)"
            ]
          },
          "metadata": {
            "tags": []
          },
          "execution_count": 299
        }
      ]
    },
    {
      "cell_type": "code",
      "metadata": {
        "id": "2yHLpjLuFr0n",
        "colab_type": "code",
        "colab": {}
      },
      "source": [
        "#predicting test result\n",
        "y_pred = classifier.predict(x_test)"
      ],
      "execution_count": null,
      "outputs": []
    },
    {
      "cell_type": "code",
      "metadata": {
        "id": "eKJASC0GFr5I",
        "colab_type": "code",
        "colab": {
          "base_uri": "https://localhost:8080/",
          "height": 134
        },
        "outputId": "506b5e02-bb9d-4856-eb0a-4cb0c8bc3ee9"
      },
      "source": [
        "#Making the confusion matrix\n",
        "from sklearn.metrics import confusion_matrix, accuracy_score\n",
        "cm = confusion_matrix(y_test, y_pred)\n",
        "print(cm)\n",
        "accuracy_score(y_test, y_pred)"
      ],
      "execution_count": null,
      "outputs": [
        {
          "output_type": "stream",
          "text": [
            "[[10  4  0  0  0  0]\n",
            " [ 6 18  0  0  0  0]\n",
            " [ 2  3  0  0  0  0]\n",
            " [ 0  0  0  2  0  0]\n",
            " [ 0  1  0  0  1  0]\n",
            " [ 0  0  0  0  0  7]]\n"
          ],
          "name": "stdout"
        },
        {
          "output_type": "execute_result",
          "data": {
            "text/plain": [
              "0.7037037037037037"
            ]
          },
          "metadata": {
            "tags": []
          },
          "execution_count": 301
        }
      ]
    },
    {
      "cell_type": "code",
      "metadata": {
        "id": "1RZ09TRkFr_w",
        "colab_type": "code",
        "colab": {
          "base_uri": "https://localhost:8080/",
          "height": 84
        },
        "outputId": "1b24d8bf-fb83-4fe4-8cb9-4ff6703c0ed3"
      },
      "source": [
        "#Training the dataset into train set in svm polynomial classification\n",
        "from sklearn.svm import SVC\n",
        "classifier = SVC(kernel = 'poly', random_state = 0)\n",
        "classifier.fit(x_train, y_train)"
      ],
      "execution_count": null,
      "outputs": [
        {
          "output_type": "execute_result",
          "data": {
            "text/plain": [
              "SVC(C=1.0, break_ties=False, cache_size=200, class_weight=None, coef0=0.0,\n",
              "    decision_function_shape='ovr', degree=3, gamma='scale', kernel='poly',\n",
              "    max_iter=-1, probability=False, random_state=0, shrinking=True, tol=0.001,\n",
              "    verbose=False)"
            ]
          },
          "metadata": {
            "tags": []
          },
          "execution_count": 302
        }
      ]
    },
    {
      "cell_type": "code",
      "metadata": {
        "id": "7AZDbwswFr9o",
        "colab_type": "code",
        "colab": {}
      },
      "source": [
        "#predicting test result\n",
        "y_pred = classifier.predict(x_test)"
      ],
      "execution_count": null,
      "outputs": []
    },
    {
      "cell_type": "code",
      "metadata": {
        "id": "7myuF9gPFryr",
        "colab_type": "code",
        "colab": {
          "base_uri": "https://localhost:8080/",
          "height": 134
        },
        "outputId": "1870e083-b611-4466-d17f-6f98b4a3abeb"
      },
      "source": [
        "#Making the confusion matrix\n",
        "from sklearn.metrics import confusion_matrix, accuracy_score\n",
        "cm = confusion_matrix(y_test, y_pred)\n",
        "print(cm)\n",
        "accuracy_score(y_test, y_pred)"
      ],
      "execution_count": null,
      "outputs": [
        {
          "output_type": "stream",
          "text": [
            "[[14  0  0  0  0  0]\n",
            " [19  3  0  1  1  0]\n",
            " [ 4  1  0  0  0  0]\n",
            " [ 1  1  0  0  0  0]\n",
            " [ 2  0  0  0  0  0]\n",
            " [ 0  0  0  0  0  7]]\n"
          ],
          "name": "stdout"
        },
        {
          "output_type": "execute_result",
          "data": {
            "text/plain": [
              "0.4444444444444444"
            ]
          },
          "metadata": {
            "tags": []
          },
          "execution_count": 304
        }
      ]
    },
    {
      "cell_type": "code",
      "metadata": {
        "id": "ThROleMiFrtd",
        "colab_type": "code",
        "colab": {
          "base_uri": "https://localhost:8080/",
          "height": 84
        },
        "outputId": "448e987c-4512-4bdf-e758-8499619e4cba"
      },
      "source": [
        "#Training the dataset into train set in svm sigmoid classification\n",
        "from sklearn.svm import SVC\n",
        "classifier = SVC(kernel = 'sigmoid', random_state = 0)\n",
        "classifier.fit(x_train, y_train)"
      ],
      "execution_count": null,
      "outputs": [
        {
          "output_type": "execute_result",
          "data": {
            "text/plain": [
              "SVC(C=1.0, break_ties=False, cache_size=200, class_weight=None, coef0=0.0,\n",
              "    decision_function_shape='ovr', degree=3, gamma='scale', kernel='sigmoid',\n",
              "    max_iter=-1, probability=False, random_state=0, shrinking=True, tol=0.001,\n",
              "    verbose=False)"
            ]
          },
          "metadata": {
            "tags": []
          },
          "execution_count": 305
        }
      ]
    },
    {
      "cell_type": "code",
      "metadata": {
        "id": "3800i7RyFrrE",
        "colab_type": "code",
        "colab": {}
      },
      "source": [
        "#predicting test result\n",
        "y_pred = classifier.predict(x_test)"
      ],
      "execution_count": null,
      "outputs": []
    },
    {
      "cell_type": "code",
      "metadata": {
        "id": "hHAvLzBsFrp0",
        "colab_type": "code",
        "colab": {
          "base_uri": "https://localhost:8080/",
          "height": 134
        },
        "outputId": "ea7d2ff3-dd68-4452-d457-05d9744984d6"
      },
      "source": [
        "#Making the confusion matrix\n",
        "from sklearn.metrics import confusion_matrix, accuracy_score\n",
        "cm = confusion_matrix(y_test, y_pred)\n",
        "print(cm)\n",
        "accuracy_score(y_test, y_pred)"
      ],
      "execution_count": null,
      "outputs": [
        {
          "output_type": "stream",
          "text": [
            "[[11  3  0  0  0  0]\n",
            " [19  4  0  1  0  0]\n",
            " [ 3  2  0  0  0  0]\n",
            " [ 0  1  0  1  0  0]\n",
            " [ 0  1  0  0  1  0]\n",
            " [ 0  0  0  0  0  7]]\n"
          ],
          "name": "stdout"
        },
        {
          "output_type": "execute_result",
          "data": {
            "text/plain": [
              "0.4444444444444444"
            ]
          },
          "metadata": {
            "tags": []
          },
          "execution_count": 307
        }
      ]
    },
    {
      "cell_type": "code",
      "metadata": {
        "id": "6iLYtkMwFrj3",
        "colab_type": "code",
        "colab": {
          "base_uri": "https://localhost:8080/",
          "height": 118
        },
        "outputId": "aa714388-62db-4e01-fdfb-8fd22732ccba"
      },
      "source": [
        "#Training the dataset into train set in Decision Tree classification\n",
        "from sklearn.tree import DecisionTreeClassifier\n",
        "classifier = DecisionTreeClassifier(criterion = 'entropy', random_state = 0)\n",
        "classifier.fit(x_train, y_train)"
      ],
      "execution_count": null,
      "outputs": [
        {
          "output_type": "execute_result",
          "data": {
            "text/plain": [
              "DecisionTreeClassifier(ccp_alpha=0.0, class_weight=None, criterion='entropy',\n",
              "                       max_depth=None, max_features=None, max_leaf_nodes=None,\n",
              "                       min_impurity_decrease=0.0, min_impurity_split=None,\n",
              "                       min_samples_leaf=1, min_samples_split=2,\n",
              "                       min_weight_fraction_leaf=0.0, presort='deprecated',\n",
              "                       random_state=0, splitter='best')"
            ]
          },
          "metadata": {
            "tags": []
          },
          "execution_count": 308
        }
      ]
    },
    {
      "cell_type": "code",
      "metadata": {
        "id": "_4ZmkdxKFrfr",
        "colab_type": "code",
        "colab": {}
      },
      "source": [
        "#predicting test result\n",
        "y_pred = classifier.predict(x_test)"
      ],
      "execution_count": null,
      "outputs": []
    },
    {
      "cell_type": "code",
      "metadata": {
        "id": "5-HvjcPIF0FD",
        "colab_type": "code",
        "colab": {
          "base_uri": "https://localhost:8080/",
          "height": 134
        },
        "outputId": "26408bb0-bf25-4397-bc19-65312cc41ed5"
      },
      "source": [
        "#Making the confusion matrix\n",
        "from sklearn.metrics import confusion_matrix, accuracy_score\n",
        "cm = confusion_matrix(y_test, y_pred)\n",
        "print(cm)\n",
        "accuracy_score(y_test, y_pred)"
      ],
      "execution_count": null,
      "outputs": [
        {
          "output_type": "stream",
          "text": [
            "[[ 9  4  1  0  0  0]\n",
            " [ 5 17  1  0  1  0]\n",
            " [ 1  2  2  0  0  0]\n",
            " [ 0  0  0  2  0  0]\n",
            " [ 0  0  0  0  1  1]\n",
            " [ 0  0  0  0  0  7]]\n"
          ],
          "name": "stdout"
        },
        {
          "output_type": "execute_result",
          "data": {
            "text/plain": [
              "0.7037037037037037"
            ]
          },
          "metadata": {
            "tags": []
          },
          "execution_count": 310
        }
      ]
    },
    {
      "cell_type": "code",
      "metadata": {
        "id": "HtOLDjIUF0B6",
        "colab_type": "code",
        "colab": {
          "base_uri": "https://localhost:8080/",
          "height": 151
        },
        "outputId": "d5d817a6-6b22-47ce-ad5f-29da296119e9"
      },
      "source": [
        "#Training the dataset into train set in Random forest classification\n",
        "from sklearn.ensemble import RandomForestClassifier\n",
        "classifier = RandomForestClassifier(n_estimators=100, criterion = 'entropy', random_state = 0)\n",
        "classifier.fit(x_train, y_train)"
      ],
      "execution_count": null,
      "outputs": [
        {
          "output_type": "execute_result",
          "data": {
            "text/plain": [
              "RandomForestClassifier(bootstrap=True, ccp_alpha=0.0, class_weight=None,\n",
              "                       criterion='entropy', max_depth=None, max_features='auto',\n",
              "                       max_leaf_nodes=None, max_samples=None,\n",
              "                       min_impurity_decrease=0.0, min_impurity_split=None,\n",
              "                       min_samples_leaf=1, min_samples_split=2,\n",
              "                       min_weight_fraction_leaf=0.0, n_estimators=100,\n",
              "                       n_jobs=None, oob_score=False, random_state=0, verbose=0,\n",
              "                       warm_start=False)"
            ]
          },
          "metadata": {
            "tags": []
          },
          "execution_count": 311
        }
      ]
    },
    {
      "cell_type": "code",
      "metadata": {
        "id": "yTfy8C9kF2IS",
        "colab_type": "code",
        "colab": {}
      },
      "source": [
        "#predicting test result\n",
        "y_pred = classifier.predict(x_test)"
      ],
      "execution_count": null,
      "outputs": []
    },
    {
      "cell_type": "code",
      "metadata": {
        "id": "uJ_hWfeXF2Eu",
        "colab_type": "code",
        "colab": {
          "base_uri": "https://localhost:8080/",
          "height": 134
        },
        "outputId": "f3bdcc43-7793-4967-8e9f-8444c07efd2d"
      },
      "source": [
        "#Making the confusion matrix\n",
        "from sklearn.metrics import confusion_matrix, accuracy_score\n",
        "cm = confusion_matrix(y_test, y_pred)\n",
        "print(cm)\n",
        "accuracy_score(y_test, y_pred)"
      ],
      "execution_count": null,
      "outputs": [
        {
          "output_type": "stream",
          "text": [
            "[[12  2  0  0  0  0]\n",
            " [ 7 16  1  0  0  0]\n",
            " [ 3  1  1  0  0  0]\n",
            " [ 0  0  0  2  0  0]\n",
            " [ 0  0  0  0  2  0]\n",
            " [ 0  0  0  0  0  7]]\n"
          ],
          "name": "stdout"
        },
        {
          "output_type": "execute_result",
          "data": {
            "text/plain": [
              "0.7407407407407407"
            ]
          },
          "metadata": {
            "tags": []
          },
          "execution_count": 313
        }
      ]
    }
  ]
}